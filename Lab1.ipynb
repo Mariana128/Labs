{
 "cells": [
  {
   "cell_type": "markdown",
   "metadata": {},
   "source": [
    "## Lab 1"
   ]
  },
  {
   "cell_type": "markdown",
   "metadata": {},
   "source": [
    "#### 1. Verify if a value is integer"
   ]
  },
  {
   "cell_type": "code",
   "execution_count": 1,
   "metadata": {},
   "outputs": [
    {
     "name": "stdout",
     "output_type": "stream",
     "text": [
      "Enter a number: 3.5\n"
     ]
    },
    {
     "data": {
      "text/plain": [
       "False"
      ]
     },
     "execution_count": 1,
     "metadata": {},
     "output_type": "execute_result"
    }
   ],
   "source": [
    "value = float(input(\"Enter a number: \"))\n",
    "\n",
    "int(value) == value"
   ]
  },
  {
   "cell_type": "markdown",
   "metadata": {},
   "source": [
    "#### 2. Verify if a value is even "
   ]
  },
  {
   "cell_type": "code",
   "execution_count": 2,
   "metadata": {},
   "outputs": [
    {
     "name": "stdout",
     "output_type": "stream",
     "text": [
      "Enter a number: 5\n"
     ]
    },
    {
     "data": {
      "text/plain": [
       "False"
      ]
     },
     "execution_count": 2,
     "metadata": {},
     "output_type": "execute_result"
    }
   ],
   "source": [
    "value = int(input(\"Enter a number: \"))\n",
    "\n",
    "(value % 2) == 0"
   ]
  },
  {
   "cell_type": "markdown",
   "metadata": {},
   "source": [
    "#### 3. Insert two numbers. Is the first is bigger than the second?"
   ]
  },
  {
   "cell_type": "code",
   "execution_count": 3,
   "metadata": {},
   "outputs": [
    {
     "name": "stdout",
     "output_type": "stream",
     "text": [
      "Insira um número: 4\n",
      "Insira um número: 2\n"
     ]
    },
    {
     "data": {
      "text/plain": [
       "True"
      ]
     },
     "execution_count": 3,
     "metadata": {},
     "output_type": "execute_result"
    }
   ],
   "source": [
    "value_1 = int(input(\"Insira um número: \"))\n",
    "value_2 = int(input(\"Insira um número: \"))\n",
    "\n",
    "value_1 > value_2"
   ]
  },
  {
   "cell_type": "markdown",
   "metadata": {},
   "source": [
    "#### 4. Verify if one value is multiple of another"
   ]
  },
  {
   "cell_type": "code",
   "execution_count": 4,
   "metadata": {},
   "outputs": [
    {
     "name": "stdout",
     "output_type": "stream",
     "text": [
      "Insira um número: 4\n",
      "Insira um número: 2\n"
     ]
    },
    {
     "data": {
      "text/plain": [
       "True"
      ]
     },
     "execution_count": 4,
     "metadata": {},
     "output_type": "execute_result"
    }
   ],
   "source": [
    "value_1 = int(input(\"Insira um número: \"))\n",
    "value_2 = int(input(\"Insira um número: \"))\n",
    "\n",
    "value_1 % value_2 == 0 or value_2 % value_1 == 0 "
   ]
  },
  {
   "cell_type": "markdown",
   "metadata": {},
   "source": [
    "#### 5. Calculate the interest earn by an investor that invested a capital of 200 during 3 years with an interest rate of 3%. (I= P*R*T)"
   ]
  },
  {
   "cell_type": "code",
   "execution_count": 5,
   "metadata": {},
   "outputs": [
    {
     "name": "stdout",
     "output_type": "stream",
     "text": [
      "Quanto foi o capital investido? 200\n",
      "Durante quantos anos é o investimento? 3\n",
      "A que taxa de juro é o invetimento? 0.03\n",
      "A taxa de juro ganha é 18.0\n"
     ]
    }
   ],
   "source": [
    "capital = float(input(\"Quanto foi o capital investido? \"))\n",
    "years = int(input(\"Durante quantos anos é o investimento? \"))\n",
    "rate = float(input(\"A que taxa de juro é o invetimento? \"))\n",
    "\n",
    "irate = capital * years * rate\n",
    "print(\"A taxa de juro ganha é \" + str(irate))"
   ]
  },
  {
   "cell_type": "markdown",
   "metadata": {},
   "source": [
    "#### 6. Capital that an investor obtained after investing a capital of 200 during 3 years with an interest rate of 3%. (Compound interest) "
   ]
  },
  {
   "cell_type": "code",
   "execution_count": 6,
   "metadata": {},
   "outputs": [
    {
     "name": "stdout",
     "output_type": "stream",
     "text": [
      "Quanto foi o capital investido? 200\n",
      "Durante quantos anos é o investimento? 3\n",
      "A que taxa de juro é o invetimento? 0.03\n",
      "O capital obtido foi de 218.5454\n"
     ]
    }
   ],
   "source": [
    "capital = float(input(\"Quanto foi o capital investido? \"))\n",
    "years = int(input(\"Durante quantos anos é o investimento? \"))\n",
    "rate = float(input(\"A que taxa de juro é o invetimento? \"))\n",
    "\n",
    "cap = capital*((1 + rate)**years)\n",
    "print(\"O capital obtido foi de \" + str(cap))"
   ]
  },
  {
   "cell_type": "markdown",
   "metadata": {},
   "source": [
    "#### 7. Calculate your BMI (Body Mass Index)"
   ]
  },
  {
   "cell_type": "code",
   "execution_count": 7,
   "metadata": {},
   "outputs": [
    {
     "name": "stdout",
     "output_type": "stream",
     "text": [
      "Introduza o seu peso: 60\n",
      "Introduza a sua altura: 1.67\n",
      "O seu IMC é de 21.513858510523864\n"
     ]
    }
   ],
   "source": [
    "mass = float(input(\"Introduza o seu peso: \"))\n",
    "height = float(input(\"Introduza a sua altura: \"))\n",
    "\n",
    "bmi = mass/(height**2)\n",
    "print(\"O seu IMC é de \" + str(bmi))"
   ]
  },
  {
   "cell_type": "markdown",
   "metadata": {},
   "source": [
    "#### 8. Calcule the Golden ration:\n",
    "##### 8.1 Solve the problem without using libraries"
   ]
  },
  {
   "cell_type": "code",
   "execution_count": 8,
   "metadata": {},
   "outputs": [
    {
     "name": "stdout",
     "output_type": "stream",
     "text": [
      "O rácio dourado é 1.618033988749895\n"
     ]
    }
   ],
   "source": [
    "gr = (1+5**(1/2))/2\n",
    "print(\"O rácio dourado é \" + str(gr))"
   ]
  },
  {
   "cell_type": "markdown",
   "metadata": {},
   "source": [
    "###### 8.2 Use module math (import math) and function sqr (math.sqrt)"
   ]
  },
  {
   "cell_type": "code",
   "execution_count": 9,
   "metadata": {},
   "outputs": [
    {
     "name": "stdout",
     "output_type": "stream",
     "text": [
      "O rácio dourado é 1.618033988749895\n"
     ]
    }
   ],
   "source": [
    "import math\n",
    "\n",
    "gr = (1+math.sqrt(5))/2\n",
    "print(\"O rácio dourado é \" + str(gr))"
   ]
  },
  {
   "cell_type": "markdown",
   "metadata": {},
   "source": [
    "#### 9. Calculete the NPV (Net present value) of an investment, considering an initial investment of 10000, the following Cashflows 2000,3000, 4000, 4000 and 5000 and a discount rate of 10%."
   ]
  },
  {
   "cell_type": "code",
   "execution_count": 10,
   "metadata": {},
   "outputs": [
    {
     "name": "stdout",
     "output_type": "stream",
     "text": [
      "Quanto é o investimento inicial? 10000\n",
      "Quanto é o primeiro cash flow? 2000\n",
      "Quanto é o segundo cash flow? 3000\n",
      "Quanto é o terceiro cash flow? 4000\n",
      "Quanto é o quarto cash flow? 4000\n",
      "Quanto é o quinto cash flow? 5000\n",
      "Quanto é a taxa de juro? 0.1\n",
      "O NPV é de 3139.440301519393\n"
     ]
    }
   ],
   "source": [
    "iinvestment = float(input(\"Quanto é o investimento inicial? \"))\n",
    "cashflow1 = float(input(\"Quanto é o primeiro cash flow? \"))\n",
    "cashflow2 = float(input(\"Quanto é o segundo cash flow? \"))\n",
    "cashflow3 = float(input(\"Quanto é o terceiro cash flow? \"))\n",
    "cashflow4 = float(input(\"Quanto é o quarto cash flow? \"))\n",
    "cashflow5 = float(input(\"Quanto é o quinto cash flow? \"))\n",
    "rate = float(input(\"Quanto é a taxa de juro? \"))\n",
    "\n",
    "npv = (cashflow1/(1+rate)**1) + (cashflow2/(1+rate)**2) + (cashflow3/(1+rate)**3) + (cashflow4/(1+rate)**4) + (cashflow5/(1+rate)**5) - iinvestment\n",
    "print(\"O NPV é de \" + str(npv))"
   ]
  },
  {
   "cell_type": "markdown",
   "metadata": {},
   "source": [
    "#### 10. Ask the user to insert name and age. Calculate the the birth. Print a result saying the 'this person was born in'"
   ]
  },
  {
   "cell_type": "markdown",
   "metadata": {},
   "source": [
    "##### 10.1 Solve the problem without using modules and libraries "
   ]
  },
  {
   "cell_type": "code",
   "execution_count": 12,
   "metadata": {},
   "outputs": [
    {
     "name": "stdout",
     "output_type": "stream",
     "text": [
      "Insira o seu primeiro nome: Mariana\n",
      "Insira o seu último nome: Alves\n",
      "Insira a sua idade: 22\n",
      "Mariana Alves nasceu no ano 1998\n"
     ]
    }
   ],
   "source": [
    "name1 = input(\"Insira o seu primeiro nome: \")\n",
    "name2 = input(\"Insira o seu último nome: \")\n",
    "age = int(input(\"Insira a sua idade: \"))\n",
    "\n",
    "birth = 2020 - age\n",
    "print(str(name1) + \" \" + str(name2) + \" \" + \"nasceu no ano \" + str(birth))"
   ]
  },
  {
   "cell_type": "markdown",
   "metadata": {},
   "source": [
    "##### 10.2 Solve the problem using the date library from module datetime, as follow: \n",
    "##### from datetime import date \n",
    "##### today = date.today() \n",
    "##### today.year"
   ]
  },
  {
   "cell_type": "code",
   "execution_count": 13,
   "metadata": {},
   "outputs": [
    {
     "name": "stdout",
     "output_type": "stream",
     "text": [
      "Insira o seu primeiro nome: Mariana\n",
      "Insira o seu último nome: Alves\n",
      "Insira a sua idade: 22\n",
      "Mariana Alves nasceu no ano 1998\n"
     ]
    }
   ],
   "source": [
    "from datetime import date\n",
    "today = date.today()\n",
    "today.year\n",
    "\n",
    "name1 = input(\"Insira o seu primeiro nome: \")\n",
    "name2 = input(\"Insira o seu último nome: \")\n",
    "age = int(input(\"Insira a sua idade: \"))\n",
    "\n",
    "birth =today.year - age\n",
    "print(str(name1) + \" \" + str(name2) + \"\" + \" nasceu no ano \" + str(birth))"
   ]
  },
  {
   "cell_type": "markdown",
   "metadata": {},
   "source": [
    "#### 11. Ask the user to insert forenames, surnames. create a new variable (name) with your complete name. Create the follwoing variables:\n",
    "* nameBig, where all the characters of the name are capitalized\n",
    "* nameTitle, where the only the first character of each name (word) is capitalized \n",
    "* nameSmall, where all the characters of the name are lower\n",
    "* nameCapitalized, where only the first charater of the first name is capitalized "
   ]
  },
  {
   "cell_type": "code",
   "execution_count": 2,
   "metadata": {},
   "outputs": [
    {
     "name": "stdout",
     "output_type": "stream",
     "text": [
      "Insira o seu primeiro nome: Mariana\n",
      "Insira o seu último nome: Alves\n",
      "O seu nome é: MARIANA ALVES\n",
      "O seu nome é: Mariana Alves\n",
      "O seu nome é: mariana alves\n",
      "O seu nome é: Mariana Alves\n"
     ]
    }
   ],
   "source": [
    "name1 = input(\"Insira o seu primeiro nome: \")\n",
    "name2 = input(\"Insira o seu último nome: \")\n",
    "\n",
    "nameBig = name1.upper() + ' ' + name2.upper()\n",
    "print(\"O seu nome é: \"+ str(nameBig))\n",
    "\n",
    "nameTitle = name1.capitalize() + ' ' + name2.capitalize()\n",
    "print(\"O seu nome é: \" + str(nameTitle))\n",
    "\n",
    "nameSmall = name1.lower() + ' ' + name2.lower()\n",
    "print(\"O seu nome é: \" + str(nameSmall))\n",
    "\n",
    "nameCapitalized = name1.capitalize() + ' ' + name2\n",
    "print(\"O seu nome é: \" + str(nameCapitalized))"
   ]
  }
 ],
 "metadata": {
  "kernelspec": {
   "display_name": "Python 3",
   "language": "python",
   "name": "python3"
  },
  "language_info": {
   "codemirror_mode": {
    "name": "ipython",
    "version": 3
   },
   "file_extension": ".py",
   "mimetype": "text/x-python",
   "name": "python",
   "nbconvert_exporter": "python",
   "pygments_lexer": "ipython3",
   "version": "3.7.4"
  }
 },
 "nbformat": 4,
 "nbformat_minor": 2
}
