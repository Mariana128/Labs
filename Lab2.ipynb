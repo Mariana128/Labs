{
 "cells": [
  {
   "cell_type": "markdown",
   "metadata": {},
   "source": [
    "## Lab 2"
   ]
  },
  {
   "cell_type": "markdown",
   "metadata": {},
   "source": [
    "#### 1. Construct a list (shoppingList) including 'potatoes', 'carrots', 'cod' and 'sprouts'"
   ]
  },
  {
   "cell_type": "code",
   "execution_count": 12,
   "metadata": {},
   "outputs": [
    {
     "name": "stdout",
     "output_type": "stream",
     "text": [
      "A sua lista de compras é: ['potatoes', 'carrots', 'cod', 'sprouts']\n"
     ]
    }
   ],
   "source": [
    "shoppingList = ['potatoes', 'carrots', 'cod', 'sprouts']\n",
    "print('A sua lista de compras é: ' + str(shoppingList))"
   ]
  },
  {
   "cell_type": "markdown",
   "metadata": {},
   "source": [
    "#### 2. Get the second and the last element of the list "
   ]
  },
  {
   "cell_type": "code",
   "execution_count": 13,
   "metadata": {},
   "outputs": [
    {
     "name": "stdout",
     "output_type": "stream",
     "text": [
      "O segundo e último elemento da lista são, respetivamente  carrots e sprouts\n"
     ]
    }
   ],
   "source": [
    "shoppingList1 = shoppingList[1]\n",
    "shoppingList2 = shoppingList[-1]\n",
    "\n",
    "print('O segundo e último elemento da lista são, respetivamente ' + ' ' + str(shoppingList1) + ' ' + 'e ' + str(shoppingList2))"
   ]
  },
  {
   "cell_type": "markdown",
   "metadata": {},
   "source": [
    "#### 3. Iterate though the list"
   ]
  },
  {
   "cell_type": "code",
   "execution_count": 14,
   "metadata": {},
   "outputs": [
    {
     "name": "stdout",
     "output_type": "stream",
     "text": [
      "potatoes\n",
      "carrots\n",
      "cod\n",
      "sprouts\n"
     ]
    }
   ],
   "source": [
    "for i in shoppingList:\n",
    "    print (i)"
   ]
  },
  {
   "cell_type": "markdown",
   "metadata": {},
   "source": [
    "#### 4. Create a new list (studentList) "
   ]
  },
  {
   "cell_type": "code",
   "execution_count": 15,
   "metadata": {},
   "outputs": [
    {
     "name": "stdout",
     "output_type": "stream",
     "text": [
      "A sua lista de compras de estudante é: ['potatoes', 'carrots', 'cod', 'sprouts']\n"
     ]
    }
   ],
   "source": [
    "studentList = shoppingList\n",
    "print('A sua lista de compras de estudante é: ' + str(studentList))"
   ]
  },
  {
   "cell_type": "markdown",
   "metadata": {},
   "source": [
    "#### 5. Add the follwoing elements to the shoppingList: orange and lime "
   ]
  },
  {
   "cell_type": "code",
   "execution_count": 16,
   "metadata": {},
   "outputs": [
    {
     "name": "stdout",
     "output_type": "stream",
     "text": [
      "A sua lista de compras atualizada é: ['potatoes', 'carrots', 'cod', 'sprouts', 'orange', 'lime']\n"
     ]
    }
   ],
   "source": [
    "shoppingList.extend(['orange', 'lime'])\n",
    "print('A sua lista de compras atualizada é: ' + str(shoppingList))"
   ]
  },
  {
   "cell_type": "markdown",
   "metadata": {},
   "source": [
    "#### 6. Remove the carrots, the first element and last element of the shoppingList list "
   ]
  },
  {
   "cell_type": "code",
   "execution_count": 17,
   "metadata": {},
   "outputs": [
    {
     "name": "stdout",
     "output_type": "stream",
     "text": [
      "A sua lista de compras atualizadas é: ['cod', 'sprouts', 'orange']\n"
     ]
    }
   ],
   "source": [
    "shoppingList.remove('carrots')\n",
    "shoppingList.pop(0)\n",
    "shoppingList.pop(-1)\n",
    "print('A sua lista de compras atualizadas é: ' + str(shoppingList))"
   ]
  },
  {
   "cell_type": "markdown",
   "metadata": {},
   "source": [
    "#### 7. Delete the student list "
   ]
  },
  {
   "cell_type": "code",
   "execution_count": 18,
   "metadata": {},
   "outputs": [],
   "source": [
    "del studentList"
   ]
  },
  {
   "cell_type": "markdown",
   "metadata": {},
   "source": [
    "#### 8. Create a list with the double values of number between 1 and 15."
   ]
  },
  {
   "cell_type": "code",
   "execution_count": 19,
   "metadata": {},
   "outputs": [
    {
     "name": "stdout",
     "output_type": "stream",
     "text": [
      "[2, 4, 6, 8, 10, 12, 14, 16, 18, 20, 22, 24, 26, 28, 30]\n"
     ]
    }
   ],
   "source": [
    "numberList = []\n",
    "for i in range(1,16):\n",
    "    numberList.append(i*2)\n",
    "print(numberList)"
   ]
  },
  {
   "cell_type": "markdown",
   "metadata": {},
   "source": [
    "#### 9. Obtain the first 3 elements of the list"
   ]
  },
  {
   "cell_type": "code",
   "execution_count": 20,
   "metadata": {},
   "outputs": [
    {
     "data": {
      "text/plain": [
       "[2, 4, 6]"
      ]
     },
     "execution_count": 20,
     "metadata": {},
     "output_type": "execute_result"
    }
   ],
   "source": [
    "numberList[0:3]"
   ]
  },
  {
   "cell_type": "markdown",
   "metadata": {},
   "source": [
    "#### 10. What is the result of, Why? \n",
    "- shopping = shoppingList \n",
    "- shoppingListCopy = shoppingList[:] \n",
    "- print(shopping) "
   ]
  },
  {
   "cell_type": "code",
   "execution_count": 21,
   "metadata": {},
   "outputs": [
    {
     "name": "stdout",
     "output_type": "stream",
     "text": [
      "['cod', 'sprouts', 'orange']\n"
     ]
    }
   ],
   "source": [
    "shopping = shoppingList\n",
    "shoppingListCopy = shoppingList[:]\n",
    "print(shopping)"
   ]
  },
  {
   "cell_type": "markdown",
   "metadata": {},
   "source": [
    "#### 11. What is the result of, Why? \n",
    "- shopping = shoppingList \n",
    "- shoppingList.append(\"orange\") \n",
    "- print(shopping) "
   ]
  },
  {
   "cell_type": "code",
   "execution_count": 22,
   "metadata": {},
   "outputs": [
    {
     "name": "stdout",
     "output_type": "stream",
     "text": [
      "['cod', 'sprouts', 'orange', 'orange']\n"
     ]
    }
   ],
   "source": [
    "shopping = shoppingList \n",
    "shoppingList.append(\"orange\") \n",
    "print(shopping)"
   ]
  },
  {
   "cell_type": "markdown",
   "metadata": {},
   "source": [
    "#### 12. Remove all the items from the shoppingList "
   ]
  },
  {
   "cell_type": "code",
   "execution_count": 23,
   "metadata": {},
   "outputs": [
    {
     "name": "stdout",
     "output_type": "stream",
     "text": [
      "A sua lista de compras encontra-se vazia: []\n"
     ]
    }
   ],
   "source": [
    "shoppingList.clear()\n",
    "print('A sua lista de compras encontra-se vazia: ' + str(shoppingList))"
   ]
  },
  {
   "cell_type": "markdown",
   "metadata": {},
   "source": [
    "#### 13. What is the result of, Why? \n",
    "- newPurchases= (\"bananas\", \"beans\", \"rice\") \n",
    "- print (newPurchases [1])\n",
    "- newPurchases [0] = \"apple\" "
   ]
  },
  {
   "cell_type": "code",
   "execution_count": 24,
   "metadata": {},
   "outputs": [
    {
     "name": "stdout",
     "output_type": "stream",
     "text": [
      "beans\n"
     ]
    },
    {
     "ename": "TypeError",
     "evalue": "'tuple' object does not support item assignment",
     "output_type": "error",
     "traceback": [
      "\u001b[0;31m---------------------------------------------------------------------------\u001b[0m",
      "\u001b[0;31mTypeError\u001b[0m                                 Traceback (most recent call last)",
      "\u001b[0;32m<ipython-input-24-d8dd8f138f5d>\u001b[0m in \u001b[0;36m<module>\u001b[0;34m\u001b[0m\n\u001b[1;32m      1\u001b[0m \u001b[0mnewPurchases\u001b[0m\u001b[0;34m=\u001b[0m \u001b[0;34m(\u001b[0m\u001b[0;34m\"bananas\"\u001b[0m\u001b[0;34m,\u001b[0m \u001b[0;34m\"beans\"\u001b[0m\u001b[0;34m,\u001b[0m \u001b[0;34m\"rice\"\u001b[0m\u001b[0;34m)\u001b[0m\u001b[0;34m\u001b[0m\u001b[0;34m\u001b[0m\u001b[0m\n\u001b[1;32m      2\u001b[0m \u001b[0mprint\u001b[0m \u001b[0;34m(\u001b[0m\u001b[0mnewPurchases\u001b[0m \u001b[0;34m[\u001b[0m\u001b[0;36m1\u001b[0m\u001b[0;34m]\u001b[0m\u001b[0;34m)\u001b[0m\u001b[0;34m\u001b[0m\u001b[0;34m\u001b[0m\u001b[0m\n\u001b[0;32m----> 3\u001b[0;31m \u001b[0mnewPurchases\u001b[0m \u001b[0;34m[\u001b[0m\u001b[0;36m0\u001b[0m\u001b[0;34m]\u001b[0m \u001b[0;34m=\u001b[0m \u001b[0;34m\"apple\"\u001b[0m\u001b[0;34m\u001b[0m\u001b[0;34m\u001b[0m\u001b[0m\n\u001b[0m",
      "\u001b[0;31mTypeError\u001b[0m: 'tuple' object does not support item assignment"
     ]
    }
   ],
   "source": [
    "newPurchases= (\"bananas\", \"beans\", \"rice\") \n",
    "print (newPurchases [1])\n",
    "newPurchases [0] = \"apple\""
   ]
  },
  {
   "cell_type": "markdown",
   "metadata": {},
   "source": [
    "Os tuplos são imutáveis. "
   ]
  },
  {
   "cell_type": "markdown",
   "metadata": {},
   "source": [
    "#### 14. Create a dictionary including the follwoing elements: orange, apple, pear, grape and peach. Key are 1 to 5. Iterate through key-value pair. "
   ]
  },
  {
   "cell_type": "code",
   "execution_count": 25,
   "metadata": {},
   "outputs": [
    {
     "name": "stdout",
     "output_type": "stream",
     "text": [
      "1 orange\n",
      "2 apple\n",
      "3 pear\n",
      "4 grape\n",
      "5 peach\n"
     ]
    }
   ],
   "source": [
    "newshoppingList = {1: 'orange', 2: 'apple', 3: 'pear', 4: 'grape', 5:'peach'}\n",
    "for key , value in newshoppingList.items():\n",
    "    print(str(key) + \" \" + value)"
   ]
  },
  {
   "cell_type": "markdown",
   "metadata": {},
   "source": [
    "#### 15. Create a weekList that is composed of several lists, each one corresponding to a day."
   ]
  },
  {
   "cell_type": "code",
   "execution_count": 26,
   "metadata": {},
   "outputs": [
    {
     "name": "stdout",
     "output_type": "stream",
     "text": [
      "A sua lista da semana é: [['bananas', 'apples', 'orange'], ['tomatoes', 'carrots', 'tofu'], ['cereal', 'rice', 'cookies'], ['cod', 'coffe', 'milk'], ['cheese', 'butter', 'chocolate'], ['limes', 'avocados', 'cucumber']]\n"
     ]
    }
   ],
   "source": [
    "shoppingListMonday = ['bananas', 'apples', 'orange']\n",
    "shoppingListTuesday = ['tomatoes', 'carrots', 'tofu']\n",
    "shoppingListWendesnay = ['cereal', 'rice', 'cookies']\n",
    "shoppingListThursday = ['cod', 'coffe', 'milk']\n",
    "shoppingListFriday = ['water', 'juice', 'tea']\n",
    "shoppingListSaturday = ['cheese', 'butter', 'chocolate']\n",
    "shoppingListSunday = ['limes', 'avocados', 'cucumber']\n",
    "\n",
    "weekList=[]\n",
    "weekList.append(shoppingListMonday)\n",
    "weekList.append(shoppingListTuesday)\n",
    "weekList.append(shoppingListWendesnay)\n",
    "weekList.append(shoppingListThursday)\n",
    "weekList.append(shoppingListSaturday)\n",
    "weekList.append(shoppingListSunday)\n",
    "\n",
    "print('A sua lista da semana é: ' + str(weekList))"
   ]
  }
 ],
 "metadata": {
  "kernelspec": {
   "display_name": "Python 3",
   "language": "python",
   "name": "python3"
  },
  "language_info": {
   "codemirror_mode": {
    "name": "ipython",
    "version": 3
   },
   "file_extension": ".py",
   "mimetype": "text/x-python",
   "name": "python",
   "nbconvert_exporter": "python",
   "pygments_lexer": "ipython3",
   "version": "3.7.4"
  }
 },
 "nbformat": 4,
 "nbformat_minor": 2
}
