{
 "cells": [
  {
   "cell_type": "markdown",
   "metadata": {},
   "source": [
    "## Lab 4 "
   ]
  },
  {
   "cell_type": "markdown",
   "metadata": {},
   "source": [
    "#### 1. Create a list of volume of sales considering the following assumptions:\n",
    "* inicial valueSales =1000 \n",
    "* anual growth rate = 10% \n",
    "* number of years = 6 "
   ]
  },
  {
   "cell_type": "code",
   "execution_count": 1,
   "metadata": {},
   "outputs": [
    {
     "name": "stdout",
     "output_type": "stream",
     "text": [
      "[1000, 1100.0, 1210.0, 1331.0, 1464.1000000000001, 1610.5100000000002]\n"
     ]
    }
   ],
   "source": [
    "initialSales = 1000\n",
    "growthRate = 0.1\n",
    "numYears = 6\n",
    "\n",
    "volumeSales = []\n",
    "volumeSales.append(initialSales)\n",
    "\n",
    "for year in range(1, numYears):\n",
    "    volumeSales.append(volumeSales[year - 1] * (1 + growthRate))\n",
    "    \n",
    "print(volumeSales)"
   ]
  },
  {
   "cell_type": "markdown",
   "metadata": {},
   "source": [
    "#### 2. Based on the previews list, create a list with costs knowing the profit margin:\n",
    "* margin =70%"
   ]
  },
  {
   "cell_type": "code",
   "execution_count": 2,
   "metadata": {},
   "outputs": [
    {
     "name": "stdout",
     "output_type": "stream",
     "text": [
      "[300.0, 330.0, 363.0, 399.30000000000007, 439.23, 483.15300000000025]\n"
     ]
    }
   ],
   "source": [
    "costs = []\n",
    "margin = 0.7\n",
    "\n",
    "for i in range(len(volumeSales)):\n",
    "    costs.append(volumeSales[i] - volumeSales[i] * margin)\n",
    "    \n",
    "print(costs)"
   ]
  },
  {
   "cell_type": "markdown",
   "metadata": {},
   "source": [
    "#### 3. Create a list with the profit based on the last 2 exercises (profit = sales - cost)"
   ]
  },
  {
   "cell_type": "code",
   "execution_count": 3,
   "metadata": {},
   "outputs": [
    {
     "name": "stdout",
     "output_type": "stream",
     "text": [
      "[700.0, 770.0, 847.0, 931.6999999999999, 1024.8700000000001, 1127.357]\n"
     ]
    }
   ],
   "source": [
    "profit = []\n",
    "\n",
    "for  i in range(len(volumeSales)):\n",
    "    profit.append(volumeSales[i] - costs[i])\n",
    "\n",
    "print(profit)"
   ]
  },
  {
   "cell_type": "markdown",
   "metadata": {},
   "source": [
    "#### 4. Calculete a newProfit suposing 500 of fixed costs"
   ]
  },
  {
   "cell_type": "code",
   "execution_count": 4,
   "metadata": {},
   "outputs": [
    {
     "name": "stdout",
     "output_type": "stream",
     "text": [
      "[200.0, 270.0, 347.0, 431.69999999999993, 524.8700000000001, 627.357]\n"
     ]
    }
   ],
   "source": [
    "totalCosts = []\n",
    "margin = 0.7\n",
    "fixedCosts=500\n",
    "\n",
    "for  i in range(len(volumeSales)):\n",
    "    totalCosts.append(volumeSales[i] * margin - fixedCosts)\n",
    "    \n",
    "print(totalCosts)"
   ]
  },
  {
   "cell_type": "markdown",
   "metadata": {},
   "source": [
    "#### 5. Create a newSales list with random generated values between 200 and 2000. Corresponding to volume of sales during a certainn numberOfYears.\n",
    "\n",
    "* import module, writing import random\n",
    "* use the method random.randint(a, b). This method is used to generate values between a and b ( Return a random integer N such that a <= N <= b.): "
   ]
  },
  {
   "cell_type": "code",
   "execution_count": 5,
   "metadata": {},
   "outputs": [
    {
     "name": "stdout",
     "output_type": "stream",
     "text": [
      "[740, 1605, 644, 350, 1921, 1989]\n"
     ]
    }
   ],
   "source": [
    "valueBeg = 200\n",
    "valueEnd = 2000\n",
    "numbYears = 6\n",
    "\n",
    "newSales = []\n",
    "\n",
    "import random\n",
    "for x in range(numYears):\n",
    "    newSales.append(random.randint(valueBeg,valueEnd))\n",
    "\n",
    "print(newSales)"
   ]
  },
  {
   "cell_type": "markdown",
   "metadata": {},
   "source": [
    "#### 6. Create a new list with profits (newProfit). With margin 70% with fixed costs stated previously. "
   ]
  },
  {
   "cell_type": "code",
   "execution_count": 6,
   "metadata": {},
   "outputs": [
    {
     "name": "stdout",
     "output_type": "stream",
     "text": [
      "[18.0, 623.5, -49.200000000000045, -255.00000000000003, 844.6999999999998, 892.3]\n"
     ]
    }
   ],
   "source": [
    "newProfit = []\n",
    "totalCosts = []\n",
    "\n",
    "margin = 0.7\n",
    "fixedCosts=500\n",
    "\n",
    "for  i in range(len(newSales)):\n",
    "    newProfit.append(newSales[i] * margin - fixedCosts)\n",
    "\n",
    "print(newProfit)"
   ]
  },
  {
   "cell_type": "markdown",
   "metadata": {},
   "source": [
    "#### 7. What is the percentage of years having profits in the total? "
   ]
  },
  {
   "cell_type": "code",
   "execution_count": 7,
   "metadata": {},
   "outputs": [
    {
     "name": "stdout",
     "output_type": "stream",
     "text": [
      "0\n",
      "1\n",
      "2\n",
      "3\n",
      "4\n",
      "5\n",
      "67%\n"
     ]
    }
   ],
   "source": [
    "prof=0\n",
    "\n",
    "for  i in range(len(newProfit)):\n",
    "    print(i)\n",
    "    if newProfit[i]>0:\n",
    "        prof+=1\n",
    "number=prof/len(newProfit)\n",
    "\n",
    "print ('{0:.0%}'.format(number))"
   ]
  },
  {
   "cell_type": "markdown",
   "metadata": {},
   "source": [
    "#### 8. Plot the sales and the newSales (generated randomly) throughout the years."
   ]
  },
  {
   "cell_type": "code",
   "execution_count": 8,
   "metadata": {},
   "outputs": [
    {
     "data": {
      "text/plain": [
       "<Figure size 640x480 with 1 Axes>"
      ]
     },
     "metadata": {},
     "output_type": "display_data"
    }
   ],
   "source": [
    "import matplotlib.pyplot as plt\n",
    "plt.plot(volumeSales)\n",
    "plt.plot(newSales)\n",
    "plt.ylabel('sales')\n",
    "plt.xlabel('years')\n",
    "plt.show() "
   ]
  }
 ],
 "metadata": {
  "kernelspec": {
   "display_name": "Python 3",
   "language": "python",
   "name": "python3"
  },
  "language_info": {
   "codemirror_mode": {
    "name": "ipython",
    "version": 3
   },
   "file_extension": ".py",
   "mimetype": "text/x-python",
   "name": "python",
   "nbconvert_exporter": "python",
   "pygments_lexer": "ipython3",
   "version": "3.7.4"
  }
 },
 "nbformat": 4,
 "nbformat_minor": 2
}
