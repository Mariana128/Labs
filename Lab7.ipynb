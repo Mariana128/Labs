{
 "cells": [
  {
   "cell_type": "markdown",
   "metadata": {},
   "source": [
    "# Lab 7\n",
    "* calculate NPV. The rate is a float and the cash flows and investment are in a list.\n",
    "* create a function called NPV to calculate NPV\n",
    "* create a function to calcule IRR. In order to calculate IRR you may aproximate the follwoing expression:\n",
    "rate= rate*(1-NPV(CFList, rate)/invest)\n",
    "*"
   ]
  },
  {
   "cell_type": "markdown",
   "metadata": {},
   "source": [
    "#### Supose you have the follwoing cashflow "
   ]
  },
  {
   "cell_type": "code",
   "execution_count": 1,
   "metadata": {},
   "outputs": [],
   "source": [
    "CFList=[-1000, 200, 200, 300, 500]\n",
    "rate= 0.04"
   ]
  },
  {
   "cell_type": "markdown",
   "metadata": {},
   "source": [
    "#### Calcule the NPV sugestion: iterate both by index and value using enumerate "
   ]
  },
  {
   "cell_type": "code",
   "execution_count": 2,
   "metadata": {},
   "outputs": [
    {
     "name": "stdout",
     "output_type": "stream",
     "text": [
      "71.3199380273798\n"
     ]
    }
   ],
   "source": [
    "NPV=0\n",
    "for year, cf in enumerate(CFList):\n",
    "    NPV = NPV + cf / ((1+rate)**(year))\n",
    "print(NPV)"
   ]
  },
  {
   "cell_type": "markdown",
   "metadata": {},
   "source": [
    "#### Create a function called NPV that returns the NPV value "
   ]
  },
  {
   "cell_type": "code",
   "execution_count": 3,
   "metadata": {},
   "outputs": [
    {
     "name": "stdout",
     "output_type": "stream",
     "text": [
      "71.3199380273798\n"
     ]
    }
   ],
   "source": [
    "def NPV (CFList,rate):\n",
    "    npval=0\n",
    "    for year, cf in enumerate(CFList):\n",
    "        npval=npval + cf / ((1+rate)**(year))\n",
    "    return npval\n",
    "print(NPV(CFList, rate))"
   ]
  },
  {
   "cell_type": "code",
   "execution_count": 4,
   "metadata": {},
   "outputs": [
    {
     "name": "stdout",
     "output_type": "stream",
     "text": [
      "0.06542842804025384\n"
     ]
    }
   ],
   "source": [
    "def irr(CFList, interations=1000):\n",
    "    rate=1.0\n",
    "    invest = CFList[0]\n",
    "    for i in range(1, interations+1):\n",
    "        rate= rate*(1-NPV(CFList, rate)/invest)\n",
    "    return rate\n",
    "print(irr(CFList))"
   ]
  },
  {
   "cell_type": "code",
   "execution_count": 5,
   "metadata": {},
   "outputs": [
    {
     "name": "stdout",
     "output_type": "stream",
     "text": [
      "4\n",
      "3.666666666666667\n"
     ]
    }
   ],
   "source": [
    "CFList=[-1000, 200, 200, 300, 500]\n",
    "i=0\n",
    "payback=0\n",
    "while payback<=-CFList[0]:\n",
    "    i+=1\n",
    "    payback+=CFList[i]\n",
    "\n",
    "print(i)\n",
    "print((payback+CFList[0])/CFList[i-1]+i-1)"
   ]
  }
 ],
 "metadata": {
  "kernelspec": {
   "display_name": "Python 3",
   "language": "python",
   "name": "python3"
  },
  "language_info": {
   "codemirror_mode": {
    "name": "ipython",
    "version": 3
   },
   "file_extension": ".py",
   "mimetype": "text/x-python",
   "name": "python",
   "nbconvert_exporter": "python",
   "pygments_lexer": "ipython3",
   "version": "3.7.4"
  }
 },
 "nbformat": 4,
 "nbformat_minor": 2
}
