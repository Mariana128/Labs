{
 "cells": [
  {
   "cell_type": "markdown",
   "metadata": {},
   "source": [
    "# Lab 8 \n",
    "\n",
    "A simple chatbot\n",
    "\n",
    "**1.** Create a function that asks the user his name and says Hello, John Doe\n",
    "\n",
    "**2.** Create a function called chat that ask the user what is his problem and will answer \"yes of course\"\n",
    "\n",
    "**3.** Create a function called chat that ask the user what is his problem and will answer randomly among 6 possible answers"
   ]
  },
  {
   "cell_type": "markdown",
   "metadata": {},
   "source": [
    "**1.** Create a function that ask the user his name and says Hello, John Doe"
   ]
  },
  {
   "cell_type": "code",
   "execution_count": null,
   "metadata": {},
   "outputs": [],
   "source": [
    "def salut():\n",
    "    a=\"\"\n",
    "    while a==\"\":\n",
    "        a= input(\"computer: Hi! What is your name?\\nuser: \")       \n",
    "    print(\"Computer: Hello, \"+a+\"! \")\n",
    "\n",
    "salut()"
   ]
  },
  {
   "cell_type": "markdown",
   "metadata": {},
   "source": [
    "**2.** Create a function called chat that ask the user what is his problem and will answer \"yes of course\""
   ]
  },
  {
   "cell_type": "code",
   "execution_count": null,
   "metadata": {},
   "outputs": [],
   "source": [
    "def chat():\n",
    "    a=\"\"  \n",
    "    while a!= \"exit\":    \n",
    "        a= input(\"comptador: O que tem mais para dizer..\\nuser:\")\n",
    "        if(a!=\"\"):\n",
    "            print(\"comptador:Pois...\")\n",
    "chat()"
   ]
  },
  {
   "cell_type": "markdown",
   "metadata": {},
   "source": [
    "**3.** Create a function called chat that ask the user what is his problem and will answer randomly among 6 possible answers"
   ]
  },
  {
   "cell_type": "code",
   "execution_count": null,
   "metadata": {},
   "outputs": [],
   "source": [
    "import random\n",
    "text=[\"Sim\", \"claro\", \"pois...\", \"obvio!\",\"Óbvio\" ]\n",
    "def chat():\n",
    "    a=\"\"  \n",
    "    while a!= \"exit\":    \n",
    "        a= input(\"comptador: O que tem mais para dizer..\\nuser: \")\n",
    "        if(a!=\"\"):\n",
    "            answer=random.randint(0,4)\n",
    "            print(\"comptador:\"+text[answer])\n",
    "chat()"
   ]
  },
  {
   "cell_type": "markdown",
   "metadata": {},
   "source": [
    "**4.** Put all together and improve"
   ]
  },
  {
   "cell_type": "code",
   "execution_count": null,
   "metadata": {},
   "outputs": [],
   "source": [
    "def salut():\n",
    "    a=\"\"\n",
    "    while a==\"\":\n",
    "        a= input(\"computer: Hi! What is your name?\\nuser: \")       \n",
    "    print(\"Computer: Hello, \"+a+\"! \")\n",
    "\n",
    "salut()\n",
    "def chat():\n",
    "    a=\"\"  \n",
    "    while a!= \"exit\":    \n",
    "        a= input(\"comptador: O que tem mais para dizer..\\nuser:\")\n",
    "        if(a!=\"\"):\n",
    "            print(\"comptador:Pois...\")\n",
    "chat()\n",
    "import random\n",
    "text=[\"Sim\", \"claro\", \"pois...\", \"obvio!\",\"Óbvio\" ]\n",
    "def chat():\n",
    "    a=\"\"  \n",
    "    while a!= \"exit\":    \n",
    "        a= input(\"comptador: O que tem mais para dizer..\\nuser: \")\n",
    "        if(a!=\"\"):\n",
    "            answer=random.randint(0,4)\n",
    "            print(\"comptador:\"+text[answer])\n",
    "chat()"
   ]
  }
 ],
 "metadata": {
  "kernelspec": {
   "display_name": "Python 3",
   "language": "python",
   "name": "python3"
  },
  "language_info": {
   "codemirror_mode": {
    "name": "ipython",
    "version": 3
   },
   "file_extension": ".py",
   "mimetype": "text/x-python",
   "name": "python",
   "nbconvert_exporter": "python",
   "pygments_lexer": "ipython3",
   "version": "3.7.4"
  }
 },
 "nbformat": 4,
 "nbformat_minor": 2
}
