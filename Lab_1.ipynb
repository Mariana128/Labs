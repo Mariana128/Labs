{
 "cells": [
  {
   "cell_type": "code",
   "execution_count": 1,
   "metadata": {},
   "outputs": [
    {
     "data": {
      "text/plain": [
       "False"
      ]
     },
     "execution_count": 1,
     "metadata": {},
     "output_type": "execute_result"
    }
   ],
   "source": [
    "#Exercício_1\n",
    "value = 3.5\n",
    "int (value) == value "
   ]
  },
  {
   "cell_type": "code",
   "execution_count": 2,
   "metadata": {},
   "outputs": [
    {
     "data": {
      "text/plain": [
       "True"
      ]
     },
     "execution_count": 2,
     "metadata": {},
     "output_type": "execute_result"
    }
   ],
   "source": [
    "#Exercício_2\n",
    "value = 2\n",
    "value % 2 == 0"
   ]
  },
  {
   "cell_type": "code",
   "execution_count": 3,
   "metadata": {},
   "outputs": [
    {
     "data": {
      "text/plain": [
       "False"
      ]
     },
     "execution_count": 3,
     "metadata": {},
     "output_type": "execute_result"
    }
   ],
   "source": [
    "#Exercício_3 , \n",
    "value_1 = 1\n",
    "value_2 = 2\n",
    "value_1 > value_2"
   ]
  },
  {
   "cell_type": "code",
   "execution_count": 4,
   "metadata": {},
   "outputs": [
    {
     "data": {
      "text/plain": [
       "True"
      ]
     },
     "execution_count": 4,
     "metadata": {},
     "output_type": "execute_result"
    }
   ],
   "source": [
    "#Exercício_4\n",
    "value_1 % value_2 == 0 or value_2 % value_1 == 0 "
   ]
  },
  {
   "cell_type": "code",
   "execution_count": 5,
   "metadata": {},
   "outputs": [
    {
     "name": "stdout",
     "output_type": "stream",
     "text": [
      "Qual foi o capital investido? 2000\n",
      "Durante quantos anos é o investimento? 3\n",
      "A que taxa de juro é o invetimento? 0.03\n",
      "A taxa ganha pelo investidor é de 180.0\n"
     ]
    }
   ],
   "source": [
    "capital = int(input(\"Qual foi o capital investido? \"))\n",
    "anos = int(input(\"Durante quantos anos é o investimento? \"))\n",
    "taxa = float(input(\"A que taxa de juro é o invetimento? \"))\n",
    "tjuro = capital * taxa * anos\n",
    "print(\"A taxa ganha pelo investidor é de \" + str(tjuro))"
   ]
  },
  {
   "cell_type": "code",
   "execution_count": 6,
   "metadata": {},
   "outputs": [
    {
     "name": "stdout",
     "output_type": "stream",
     "text": [
      "Qual foi o capital investido? 2000\n",
      "Durante quantos anos é o investimento? 3\n",
      "A que taxa de juro é o invetimento? 0.03\n",
      "A taxa obtida é de 1.092727\n"
     ]
    }
   ],
   "source": [
    "capital = int(input(\"Qual foi o capital investido? \"))\n",
    "anos = int(input(\"Durante quantos anos é o investimento? \"))\n",
    "t_juro = float(input(\"A que taxa de juro é o invetimento? \"))\n",
    "taxa = (1 + t_juro)**anos\n",
    "print(\"A taxa obtida é de \" + str(taxa))"
   ]
  },
  {
   "cell_type": "code",
   "execution_count": 7,
   "metadata": {},
   "outputs": [
    {
     "name": "stdout",
     "output_type": "stream",
     "text": [
      "Introduza o seu peso: 60\n",
      "Introduza a sua altura: 1.67\n",
      "O seu IMC é 21.513858510523864\n"
     ]
    }
   ],
   "source": [
    "#Exercício_7\n",
    "peso = float(input(\"Introduza o seu peso: \"))\n",
    "altura = float(input(\"Introduza a sua altura: \"))\n",
    "imc = peso/(altura**2)\n",
    "print(\"O seu IMC é \" + str(imc))"
   ]
  },
  {
   "cell_type": "code",
   "execution_count": 8,
   "metadata": {},
   "outputs": [
    {
     "name": "stdout",
     "output_type": "stream",
     "text": [
      "O rácio dourado é 1.618033988749895\n"
     ]
    }
   ],
   "source": [
    "#Exercício_8_1\n",
    "gr = (1+5**(1/2))/2\n",
    "print(\"O rácio dourado é \" + str(gr))"
   ]
  },
  {
   "cell_type": "code",
   "execution_count": 9,
   "metadata": {},
   "outputs": [
    {
     "name": "stdout",
     "output_type": "stream",
     "text": [
      "O rácio dourado é 1.618033988749895\n"
     ]
    }
   ],
   "source": [
    "#Exercício_8_2\n",
    "import math\n",
    "gr = (1+ math.sqrt(5))/2\n",
    "print(\"O rácio dourado é \" + str(gr))"
   ]
  },
  {
   "cell_type": "code",
   "execution_count": 10,
   "metadata": {},
   "outputs": [
    {
     "name": "stdout",
     "output_type": "stream",
     "text": [
      "3139.440301519393\n"
     ]
    }
   ],
   "source": [
    "#Exercício_9\n",
    "NPV = (2000/(1+0.1)**1) + (3000/(1+0.1)**2) + (4000/(1+0.1)**3) + (4000/(1+0.1)**4) + (5000/(1+0.1)**5) - 10000 \n",
    "print(NPV)"
   ]
  },
  {
   "cell_type": "code",
   "execution_count": 12,
   "metadata": {},
   "outputs": [
    {
     "name": "stdout",
     "output_type": "stream",
     "text": [
      "Qual é o seu nome? Mariana Alves\n",
      "Qual é a sua idade? 22\n",
      "Você nasceu em 1997\n"
     ]
    }
   ],
   "source": [
    "#Exercíco_10_1\n",
    "nome = input(\"Qual é o seu nome? \")\n",
    "idade = int(input(\"Qual é a sua idade? \"))\n",
    "nascimento = 2019 - idade\n",
    "print(\"Você nasceu em \" + str(nascimento))"
   ]
  },
  {
   "cell_type": "code",
   "execution_count": 13,
   "metadata": {},
   "outputs": [
    {
     "name": "stdout",
     "output_type": "stream",
     "text": [
      "Qual é o seu nome? Mariana Alves\n",
      "Qual é a sua idade? 22\n",
      "Você nasceu em 1997\n"
     ]
    }
   ],
   "source": [
    "#Exercício_10_2\n",
    "from datetime import date\n",
    "today = date.today()\n",
    "today.year\n",
    "nome = input(\"Qual é o seu nome? \")\n",
    "idade = int(input(\"Qual é a sua idade? \"))\n",
    "nascimento = today.year - idade\n",
    "print(\"Você nasceu em \" + str(nascimento))"
   ]
  },
  {
   "cell_type": "code",
   "execution_count": 15,
   "metadata": {},
   "outputs": [
    {
     "name": "stdout",
     "output_type": "stream",
     "text": [
      "Introduza o seu primeiro nome mariana\n",
      "Introduza o seu ultimo nome alves\n",
      "MARIANA ALVES\n",
      "Mariana Alves\n",
      "mariana alves\n",
      "Mariana alves\n"
     ]
    }
   ],
   "source": [
    "#Exercício_11\n",
    "nome_1 = input(\"Introduza o seu primeiro nome \")\n",
    "nome_2 = input(\"Introduza o seu ultimo nome \")\n",
    "\n",
    "nameBig = nome_1.upper() + ' ' + nome_2.upper()\n",
    "print(nameBig)\n",
    "\n",
    "nameTitle = nome_1.capitalize() + ' ' + nome_2.capitalize()\n",
    "print(nameTitle)\n",
    "\n",
    "nameSmall = nome_1.lower() + ' ' + nome_2.lower()\n",
    "print(nameSmall)\n",
    "\n",
    "nameCapitalized = nome_1.capitalize() + ' ' + nome_2\n",
    "print(nameCapitalized)"
   ]
  },
  {
   "cell_type": "code",
   "execution_count": 16,
   "metadata": {},
   "outputs": [
    {
     "name": "stdout",
     "output_type": "stream",
     "text": [
      "Posição: -1\n",
      "Posição: 16\n"
     ]
    }
   ],
   "source": [
    "#Exercício_12\n",
    "meu_nome = 'Mariana Teixeira Pereira Alves'\n",
    "teu_nome = 'Diogo Alexandre da Silva Tavares'\n",
    "\n",
    "resultado_false = meu_nome.find('da') #Se não encontrar retorna -1\n",
    "print('Posição: ' + str(resultado_false))\n",
    "resultado_true = teu_nome.find('da')\n",
    "print('Posição: ' + str(resultado_true))"
   ]
  },
  {
   "cell_type": "code",
   "execution_count": null,
   "metadata": {},
   "outputs": [],
   "source": []
  }
 ],
 "metadata": {
  "kernelspec": {
   "display_name": "Python 3",
   "language": "python",
   "name": "python3"
  },
  "language_info": {
   "codemirror_mode": {
    "name": "ipython",
    "version": 3
   },
   "file_extension": ".py",
   "mimetype": "text/x-python",
   "name": "python",
   "nbconvert_exporter": "python",
   "pygments_lexer": "ipython3",
   "version": "3.7.4"
  }
 },
 "nbformat": 4,
 "nbformat_minor": 2
}
